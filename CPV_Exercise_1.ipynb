{
  "cells": [
    {
      "cell_type": "markdown",
      "source": [
        "# Excercise\n",
        "**Given the matrix below:**\n",
        "$$\\mathbb{A}= \\begin{bmatrix} 11 & 7 & 5 & 10\\\\\n",
        "                               5 & 3 & 5 & 9\\\\\n",
        "                               3 & 4 & 8 & 1 \\\\\n",
        "                               5 & 2 & 5 & 7 \\\\\n",
        "                              \\end{bmatrix}\n",
        "$$\n",
        "1. Apply kernels edge detection and sharpen (step-by-step)\n",
        "2. Apply mean and median filter, but keep the size of matrix output (step-by-step).\n",
        "3. Apply correlation and convolution with kernel (step-by-step) as below:\n",
        "$$\\mathbb{A}= \\begin{bmatrix} 1 & 0 \\\\\n",
        "                               0 & -1\\\\\n",
        "                              \\end{bmatrix}\n",
        "$$"
      ],
      "metadata": {
        "id": "HgiHPyUDiFq9"
      },
      "id": "HgiHPyUDiFq9"
    },
    {
      "cell_type": "markdown",
      "source": [
        "# Coding with OpenCV\n",
        "1. Load image and use histogram equalization.\n",
        "2. Use CLAHE method and compare with histogram equalization.\n",
        "3. Load image and implement various filters (Mean, Gaussian, Median, Bilateral).\n",
        "4. Adds noise to images to check filter effectiveness (Filter from Q.3).\n",
        "5. Load image and implement various kernels (edge detection, sharpen, box blur, gaussian blur).\n",
        "\n",
        "Note: You can load any image.\n"
      ],
      "metadata": {
        "id": "JNMPEIqOe_qH"
      },
      "id": "JNMPEIqOe_qH"
    }
  ],
  "metadata": {
    "kernelspec": {
      "display_name": "R",
      "language": "R",
      "name": "ir"
    },
    "language_info": {
      "codemirror_mode": "r",
      "file_extension": ".r",
      "mimetype": "text/x-r-source",
      "name": "R",
      "pygments_lexer": "r",
      "version": "3.6.1"
    },
    "colab": {
      "provenance": []
    }
  },
  "nbformat": 4,
  "nbformat_minor": 5
}