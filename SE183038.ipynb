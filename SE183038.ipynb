{
  "cells": [
    {
      "cell_type": "markdown",
      "metadata": {
        "id": "f7rTtJYX0Opp"
      },
      "source": [
        "---\n",
        "```\n",
        "Course: CPV301-SP25\n",
        "Lab: 01\n",
        "Name: Trần Trung Đức\n",
        "ID: SE183038\n",
        "Class: AI1802\n",
        "```\n",
        "---\n",
        "**Submission File Name**: use **your StudentID** as file name (e.g., SE123456.ipynb or SE123456.zip)\n",
        "\n",
        "Link: https://tinyurl.com/AI1802-CPV301-Lab1-Submission\n",
        "\n",
        " **Should be submitted before 21:00:00 PM on 19/01/2025**"
      ]
    },
    {
      "cell_type": "markdown",
      "metadata": {
        "id": "LhjpGkYS0Gj0"
      },
      "source": [
        "# Exercise (5pts)"
      ]
    },
    {
      "cell_type": "markdown",
      "metadata": {
        "id": "u_0a4T2m0g5X"
      },
      "source": [
        "---\n",
        "**Ex1** (1pts): Given are the following five points $\\mathbb{x}_{i}$ with their homogeneous coordinates:\n",
        "\n",
        "$$\\mathbb{x}_{1} = \\begin{bmatrix}3\\\\4\\\\-5\\end{bmatrix}, \\mathbb{x}_{2} = \\begin{bmatrix}-11\\\\-60\\\\-61\\end{bmatrix}, \\mathbb{x}_{3} = \\begin{bmatrix}220\\\\-21\\\\-221\\end{bmatrix}, \\mathbb{x}_{4} = \\begin{bmatrix}165\\\\-52\\\\173\\end{bmatrix}, \\mathbb{x}_{5} = \\begin{bmatrix}-36\\\\-77\\\\-85\\end{bmatrix}$$\n",
        "\n",
        "Give the non-homogeneous coordinates of the five points."
      ]
    },
    {
      "cell_type": "markdown",
      "metadata": {
        "id": "dLMDyFPoQEAW"
      },
      "source": [
        "**Answer**\n",
        "\n",
        "$$ \\mathbb{x}_{1} = \\begin{bmatrix}\\frac{3}{-5} \\\\ \\frac{4}{-5}\\end{bmatrix} = \\begin{bmatrix}-0.6\\\\-0.8\\end{bmatrix}, \\mathbb{x}_{2} = \\begin{bmatrix}\\frac{-11}{-61} \\\\ \\frac{-60}{-61}\\end{bmatrix} = \\begin{bmatrix}0.1803\\\\0.9836\\end{bmatrix} , \\mathbb{x}_{3} = \\begin{bmatrix}\\frac{220}{-221} \\\\ \\frac{-21}{-221}\\end{bmatrix} = \\begin{bmatrix}−0.9955\\\\0.095\\end{bmatrix} , \\mathbb{x}_{4} = \\begin{bmatrix}\\frac{165}{173} \\\\ \\frac{-52}{173}\\end{bmatrix} =  \\begin{bmatrix}0.9532\\\\−0.3006\\end{bmatrix}, \\mathbb{x}_{5} = \\begin{bmatrix}\\frac{-36}{-85} \\\\ \\frac{-77}{-85}\\end{bmatrix} = \\begin{bmatrix}0.4235\\\\0.9059\\end{bmatrix} $$\n",
        "\n"
      ]
    },
    {
      "cell_type": "markdown",
      "metadata": {
        "id": "RGH3NrzV2E-M"
      },
      "source": [
        "---\n",
        "**Ex2** (1pts): Give the homogeneous matrices for the following transformations of 2D points.\n",
        "\n",
        "\n",
        "1.   Translation $\\mathcal{T}_t$ with translation vector $\\mathbb{t}=[-4,-1]^{T}$.\n",
        "2.   Rotation $\\mathcal{R}_\\theta$ with $\\theta=90^{\\circ}$ around the origin.\n",
        "\n"
      ]
    },
    {
      "cell_type": "markdown",
      "metadata": {
        "id": "jrxTeAMyQK_y"
      },
      "source": [
        "**Answer**\n",
        "\n",
        "1. The translation matrix is:\n",
        "\n",
        "$$\\mathcal{T}_t = \\begin{bmatrix}1 & 0 & -4\\\\0 & 1 & -1\\\\0 & 0 & 1\\end{bmatrix}$$\n",
        "\n",
        "2. The rotation matrix is:\n",
        "\n",
        "$$\\mathcal{R}_\\theta = \\begin{bmatrix}0 & -1 & 0\\\\1 & 0 & 0\\\\0 & 0 & 1\\end{bmatrix}$$"
      ]
    },
    {
      "cell_type": "markdown",
      "metadata": {
        "id": "atuhGSus3FiF"
      },
      "source": [
        "---\n",
        "**Ex3** (3pts): Given is the point $\\mathbb{p}=[2,1]^{T}$. Provide the _non-homogeneous coordinates_ of the transformed points $\\mathbb{p}', \\mathbb{p}''$ after applying the following transformations using the matrices from **Ex2**.\n",
        "\n",
        "(a) Translation $\\mathbb{p}'=\\mathcal{T}_{t}(p)$.\n",
        "\n",
        "(b) Then rotation $\\mathbb{p}''=\\mathcal{R}_\\theta(\\mathbb{p}')$.\n",
        "\n",
        "(c) How many different points $\\mathbb{p}''$ could you obtain by exchanging the sequence of the two transformations? Give reasons for your answer."
      ]
    },
    {
      "cell_type": "markdown",
      "metadata": {
        "id": "HSjknljwQLy6"
      },
      "source": [
        "**Answer**\n",
        "\n",
        "(a) Apply translation:\n",
        "\n",
        "$$p' = \\mathcal{T}_t \\cdot p = \\begin{bmatrix}1 & 0 & -4\\\\0 & 1 & -1\\\\0 & 0 & 1\\end{bmatrix} \\cdot \\begin{bmatrix}2\\\\1\\\\1\\end{bmatrix} = \\begin{bmatrix}2 - 4\\\\1 - 1\\\\1\\end{bmatrix} = \\begin{bmatrix}-2\\\\0\\\\1\\end{bmatrix}$$\n",
        "\n",
        "Non-homogeneous coordinates of $p'$:\n",
        "\n",
        "$$p' = \\begin{bmatrix}-2\\\\0\\end{bmatrix}$$\n",
        "\n",
        "(b) Apply rotation:\n",
        "\n",
        "$$p'' = \\mathcal{R}_\\theta \\cdot p' = \\begin{bmatrix}0 & -1 & 0\\\\1 & 0 & 0\\\\0 & 0 & 1\\end{bmatrix} \\cdot \\begin{bmatrix}-2\\\\0\\\\1\\end{bmatrix} = \\begin{bmatrix}0\\\\-2\\\\1\\end{bmatrix}$$\n",
        "\n",
        "Non-homogeneous coordinates of $p''$:\n",
        "\n",
        "$$p'' = \\begin{bmatrix}0\\\\-2\\end{bmatrix}$$\n",
        "\n",
        "(c) By exchanging the sequence of the two transformations, the results are different because matrix multiplication is not commutative. Two different points $p''$ can be obtained depending on the order of operations.\n",
        "\n",
        "Ví dụ\n",
        "**Dịch chuyển trước, quay sau:**\n",
        "\n",
        "$$\n",
        "p'' = \\mathcal{R}_\\theta(\\mathcal{T}_t(p)) = \n",
        "\\begin{bmatrix}0 & -1 & 0\\\\1 & 0 & 0\\\\0 & 0 & 1\\end{bmatrix} \\cdot \n",
        "\\begin{bmatrix}2\\\\1\\\\1\\end{bmatrix} = \n",
        "\\begin{bmatrix}0\\\\-2\\\\1\\end{bmatrix}\n",
        "$$\n",
        "\n",
        "Tọa độ không đồng nhất của $p''$:\n",
        "\n",
        "$$\n",
        "p'' = \\begin{bmatrix}0\\\\-2\\end{bmatrix}\n",
        "$$\n",
        "\n",
        "\n",
        "**Quay trước, dịch chuyển sau:**\n",
        "\n",
        "Áp dụng phép quay $R_\\theta$ trước:\n",
        "\n",
        "$$\n",
        "p' = \\mathcal{R}_\\theta(p) = \n",
        "\\begin{bmatrix}0 & -1 & 0\\\\1 & 0 & 0\\\\0 & 0 & 1\\end{bmatrix} \\cdot \n",
        "\\begin{bmatrix}2\\\\1\\\\1\\end{bmatrix} = \n",
        "\\begin{bmatrix}-1\\\\2\\\\1\\end{bmatrix}\n",
        "$$\n",
        "\n",
        "Sau đó, áp dụng phép dịch chuyển $\\mathcal{T}_t$:\n",
        "\n",
        "$$\n",
        "p'' = \\mathcal{T}_t(p') = \n",
        "\\begin{bmatrix}1 & 0 & -4\\\\0 & 1 & -1\\\\0 & 0 & 1\\end{bmatrix} \\cdot \n",
        "\\begin{bmatrix}-1\\\\2\\\\1\\end{bmatrix} = \n",
        "\\begin{bmatrix}-5\\\\1\\\\1\\end{bmatrix}\n",
        "$$\n",
        "\n",
        "Tọa độ không đồng nhất của $p''$:\n",
        "\n",
        "$$\n",
        "p'' = \\begin{bmatrix}-5\\\\1\\end{bmatrix}\n",
        "$$\n",
        "\n",
        "\n",
        "**Kết luận:**\n",
        "\n",
        "Thứ tự biến đổi không giao hoán.\n",
        "\n",
        "Có 2 điểm khác nhau $p''$ dựa trên thứ tự biến đổi:\n",
        "\n",
        "- Dịch chuyển trước, quay sau:  \n",
        "  $p'' = \\begin{bmatrix}0\\\\-2\\end{bmatrix}$.\n",
        "  \n",
        "- Quay trước, dịch chuyển sau:  \n",
        "  $p'' = \\begin{bmatrix}-5\\\\1\\end{bmatrix}$.\n"
      ]
    },
    {
      "cell_type": "markdown",
      "metadata": {
        "id": "2xGsxwFk7BX2"
      },
      "source": [
        "---\n",
        "# Coding (5pts)"
      ]
    },
    {
      "cell_type": "code",
      "execution_count": 57,
      "metadata": {
        "id": "fGpQah1n0f14"
      },
      "outputs": [],
      "source": [
        "import numpy as np\n",
        "import matplotlib.pyplot as plt\n",
        "\n",
        "np.random.seed(99)\n",
        "\n",
        "def draw_poly(points: np.array, label=None):\n",
        "  if label is None:\n",
        "    print('The label should be specific and unique for each call')\n",
        "  poly_closed = np.concatenate([points, points[0].reshape(1, -1)])\n",
        "  plt.plot(poly_closed[:, 0], poly_closed[:, 1], label=label)\n"
      ]
    },
    {
      "cell_type": "markdown",
      "metadata": {
        "id": "Lmp1fX2h7hA_"
      },
      "source": [
        "---\n",
        "**Co1** (3pts): Define functions for the transformations of 2D points in _homogeneous coordinates_ and return results in _non-homogeneous coordinates_.\n",
        "\n",
        "*   **Input**:\n",
        "\n",
        "      ```points: an array with shape (n, 2) - n points in non-homogeneous coordinates.```\n",
        "      \n",
        "      ```t: an array with shape (2, 1) - translation vector.```\n",
        "\n",
        "      ```theta: float number - rotation in degree.```\n",
        "\n",
        "      ```s: an array with shape (2, 1) - scaling factors.```\n",
        "      \n",
        "*   **Output**:\n",
        "    ```points_transf: an array with shape (n, 2) - n points in non-homogeneous coordinates after transformation.```"
      ]
    },
    {
      "cell_type": "code",
      "execution_count": 53,
      "metadata": {
        "id": "YjUNcNb61oXn"
      },
      "outputs": [],
      "source": [
        "def translation(points: np.array, t: np.array) -> np.array:\n",
        "    n = points.shape[0]\n",
        "\n",
        "    # Tạo ma trận dịch chuyển\n",
        "    T = np.array([[1, 0, t[0]],\n",
        "                  [0, 1, t[1]],\n",
        "                  [0, 0, 1]])\n",
        "    \n",
        "    # Chuyển các điểm thành tọa độ đồng nhất (homogeneous coordinates)\n",
        "    points_homogeneous = np.hstack((points, np.ones((n, 1))))\n",
        "\n",
        "    # Áp dụng phép dịch chuyển\n",
        "    points_transformed = points_homogeneous @ T.T\n",
        "\n",
        "    # Trả về tọa độ không đồng nhất\n",
        "    return points_transformed[:, :2]\n",
        "\n",
        "\n",
        "def rotate(points: np.array, theta: float) -> np.array:\n",
        "    n = points.shape[0]\n",
        "\n",
        "    # Chuyển các điểm thành tọa độ đồng nhất\n",
        "    points_h = np.hstack((points, np.ones((n, 1))))  # Convert to homogeneous\n",
        "\n",
        "    # Chuyển góc theta từ độ sang radian\n",
        "    theta_rad = np.radians(theta)\n",
        "\n",
        "    # Tạo ma trận quay\n",
        "    R = np.array([[np.cos(theta_rad), -np.sin(theta_rad), 0],\n",
        "                  [np.sin(theta_rad), np.cos(theta_rad), 0],\n",
        "                  [0, 0, 1]])\n",
        "    \n",
        "    # Áp dụng phép quay\n",
        "    points_transf = points_h @ R.T\n",
        "\n",
        "    # Trả về tọa độ không đồng nhất\n",
        "    return points_transf[:, :2]\n",
        "\n",
        "def scale(points: np.array, s: np.array) -> np.array:\n",
        "    n = points.shape[0]\n",
        "\n",
        "    # Tạo ma trận co giãn\n",
        "    S = np.array([[s[0], 0, 0],\n",
        "                  [0, s[1], 0],\n",
        "                  [0, 0, 1]])\n",
        "    \n",
        "    # Chuyển các điểm thành tọa độ đồng nhất\n",
        "    points_homogeneous = np.hstack((points, np.ones((n, 1))))\n",
        "\n",
        "    # Áp dụng phép co giãn\n",
        "    points_transformed = points_homogeneous @ S.T\n",
        "    \n",
        "    # Trả về tọa độ không đồng nhất\n",
        "    return points_transformed[:, :2]\n"
      ]
    },
    {
      "cell_type": "markdown",
      "metadata": {
        "id": "NoEuZfjQ-Cwf"
      },
      "source": [
        "---\n",
        "**Co2** (1pts): Define functions for the rotation of 2D points around a point $\\mathbb{p}$ in _homogeneous coordinates_ and return results in _non-homogeneous coordinates_.\n",
        "\n",
        "*   **Input**:\n",
        "\n",
        "      ```points: an array with shape (n, 2) - n points in non-homogeneous coordinates.```\n",
        "      \n",
        "      ```theta: float number - rotation in degree.```\n",
        "\n",
        "      ```p: an array with shape (2, 1).```\n",
        "      \n",
        "*   **Output**:\n",
        "    ```points_transf: an array with shape (n, 2) - n points in non-homogeneous coordinates after transformation.```"
      ]
    },
    {
      "cell_type": "code",
      "execution_count": 54,
      "metadata": {
        "id": "lHGgHitl-I73"
      },
      "outputs": [],
      "source": [
        "def rotation_ap(points: np.array, theta: float, p: np.array) -> np.array:\n",
        "    # Chuyển góc từ độ sang radian\n",
        "    theta_rad = np.radians(theta)\n",
        "    \n",
        "    # Số lượng điểm\n",
        "    n = points.shape[0]\n",
        "    \n",
        "    # Chuyển điểm thành tọa độ đồng nhất\n",
        "    points_h = np.hstack((points, np.ones((n, 1))))  # Thêm cột 1 để chuyển thành tọa độ đồng nhất\n",
        "\n",
        "    # Ma trận dịch chuyển gốc về điểm p\n",
        "    T1 = np.array([[1, 0, -p[0, 0]],\n",
        "                   [0, 1, -p[1, 0]],\n",
        "                   [0, 0, 1]])\n",
        "\n",
        "    # Ma trận quay quanh điểm gốc\n",
        "    R = np.array([[np.cos(theta_rad), -np.sin(theta_rad), 0],\n",
        "                  [np.sin(theta_rad), np.cos(theta_rad), 0],\n",
        "                  [0, 0, 1]])\n",
        "\n",
        "    # Ma trận dịch chuyển từ điểm p về gốc ban đầu\n",
        "    T2 = np.array([[1, 0, p[0, 0]],\n",
        "                   [0, 1, p[1, 0]],\n",
        "                   [0, 0, 1]])\n",
        "\n",
        "    # Kết hợp các phép biến hình (dịch + quay)\n",
        "    T = T2 @ R @ T1\n",
        "    \n",
        "    # Áp dụng phép biến hình lên các điểm\n",
        "    points_transf_h = points_h @ T.T  # Chú ý nhân với T.T (chuyển vị) vì points_h là ma trận hàng\n",
        "\n",
        "    # Trả về tọa độ không đồng nhất (chỉ lấy 2 cột đầu tiên)\n",
        "    return points_transf_h[:, :2]\n",
        "\n"
      ]
    },
    {
      "cell_type": "markdown",
      "metadata": {
        "id": "RW1LtlZwLBOJ"
      },
      "source": [
        "---\n",
        "**Co3** (1pts): Writing the code for doing transformations using above functions, plotting results as well as showing the legend label for each plot."
      ]
    },
    {
      "cell_type": "code",
      "execution_count": 55,
      "metadata": {
        "id": "6yrCDF_s7Udo"
      },
      "outputs": [
        {
          "data": {
            "image/png": "[encoded data removed]",
            "text/plain": [
              "<Figure size 800x800 with 1 Axes>"
            ]
          },
          "metadata": {},
          "output_type": "display_data"
        }
      ],
      "source": [
        "# Hàm nhập điểm\n",
        "def input_points():\n",
        "    points = input(\"Nhập các điểm (ví dụ: [[2, 1], [4, 3], [6, 2]]): \")\n",
        "    points = np.array(eval(points))  # Chuyển chuỗi thành danh sách 2D\n",
        "    return points\n",
        "\n",
        "# Hàm nhập vector dịch chuyển (t)\n",
        "def input_translation():\n",
        "    t = input(\"Nhập vector dịch chuyển (ví dụ: [-4, -1]): \")\n",
        "    t = np.array(eval(t))  # Chuyển chuỗi thành danh sách 1D\n",
        "    return t\n",
        "\n",
        "# Hàm nhập vector tỷ lệ (s)\n",
        "def input_scale():\n",
        "    s = input(\"Nhập tỷ lệ (ví dụ: [1.5, 0.5]): \")\n",
        "    s = np.array(eval(s))  # Chuyển chuỗi thành danh sách 1D\n",
        "    return s\n",
        "\n",
        "# Hàm nhập góc quay (theta)\n",
        "def input_rotation_angle():\n",
        "    theta = float(input(\"Nhập góc quay (ví dụ: 50): \"))\n",
        "    return theta\n",
        "\n",
        "# Hàm nhập điểm quay (p)\n",
        "def input_rotation_point():\n",
        "    p = input(\"Nhập điểm quay (ví dụ: [2, 1]): \")\n",
        "    p = np.array(eval(p))  # Chuyển chuỗi thành danh sách 2D\n",
        "    return p\n",
        "\n",
        "# Hàm nhập figsize\n",
        "def input_figsize():\n",
        "    figsize = input(\"Nhập kích thước biểu đồ (ví dụ: (8, 8)): \")\n",
        "    figsize = eval(figsize)  # Chuyển chuỗi thành tuple\n",
        "    return figsize\n",
        "\n",
        "# Khởi tạo các điểm ban đầu từ người dùng\n",
        "points = input_points()\n",
        "\n",
        "# Xác định các thông số biến đổi từ người dùng\n",
        "t = input_translation()\n",
        "s = input_scale()\n",
        "theta = input_rotation_angle()\n",
        "p = input_rotation_point()\n",
        "\n",
        "# Nhập kích thước biểu đồ từ người dùng\n",
        "figsize = input_figsize()\n",
        "\n",
        "# Áp dụng các phép biến đổi\n",
        "points_translated = translation(points, t)\n",
        "points_scaled = scale(points, s)\n",
        "points_rotated = rotate(points, theta)\n",
        "points_rotated_around_point = rotation_ap(points, theta, p)\n",
        "\n",
        "# Vẽ kết quả\n",
        "plt.figure(figsize=figsize)  # Sử dụng kích thước người dùng nhập\n",
        "draw_poly(points, label='Original')\n",
        "draw_poly(points_translated, label='Translated')\n",
        "draw_poly(points_scaled, label='Scaled')\n",
        "draw_poly(points_rotated, label=f'Rotated {theta}°')\n",
        "draw_poly(points_rotated_around_point, label=f'Rotated {theta}° around point')\n",
        "\n",
        "plt.legend()\n",
        "plt.grid(True)\n",
        "plt.show()\n"
      ]
    },
    {
      "cell_type": "code",
      "execution_count": null,
      "metadata": {},
      "outputs": [],
      "source": []
    }
  ],
  "metadata": {
    "colab": {
      "provenance": []
    },
    "kernelspec": {
      "display_name": ".venv",
      "language": "python",
      "name": "python3"
    },
    "language_info": {
      "codemirror_mode": {
        "name": "ipython",
        "version": 3
      },
      "file_extension": ".py",
      "mimetype": "text/x-python",
      "name": "python",
      "nbconvert_exporter": "python",
      "pygments_lexer": "ipython3",
      "version": "3.13.1"
    }
  },
  "nbformat": 4,
  "nbformat_minor": 0
}
